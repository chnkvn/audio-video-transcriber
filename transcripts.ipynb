{
  "nbformat": 4,
  "nbformat_minor": 0,
  "metadata": {
    "colab": {
      "provenance": [],
      "gpuType": "T4"
    },
    "kernelspec": {
      "name": "python3",
      "display_name": "Python 3"
    },
    "language_info": {
      "name": "python"
    },
    "accelerator": "GPU"
  },
  "cells": [
    {
      "cell_type": "markdown",
      "source": [
        "# Before starting:\n",
        "Make sure to enable the GPU:\n",
        "- Runtime\n",
        "- Change runtime type\n",
        "- T4 GPU\n",
        "\n",
        "After GPU activation:\n",
        "- Runtime\n",
        "- Run all\n",
        "- Scroll to the end of the page and wait until a visual app appears under the last cell.\n",
        "- You can now use the app\n"
      ],
      "metadata": {
        "id": "Lvv453xCXrqt"
      }
    },
    {
      "cell_type": "markdown",
      "source": [
        "# Install libraries"
      ],
      "metadata": {
        "id": "uCqf0yy5A1iw"
      }
    },
    {
      "cell_type": "code",
      "source": [
        "import locale\n",
        "def getpreferredencoding(do_setlocale = True):\n",
        "    return \"UTF-8\"\n",
        "locale.getpreferredencoding = getpreferredencoding"
      ],
      "metadata": {
        "id": "EfGD9ZTbeflc"
      },
      "execution_count": 1,
      "outputs": []
    },
    {
      "cell_type": "code",
      "execution_count": 5,
      "metadata": {
        "colab": {
          "base_uri": "https://localhost:8080/",
          "height": 1000
        },
        "id": "v12v8pREPO0T",
        "outputId": "d0f5f2f7-b24b-4e34-9698-36e59d85946d"
      },
      "outputs": [
        {
          "output_type": "stream",
          "name": "stdout",
          "text": [
            "Requirement already satisfied: insanely-fast-whisper in /usr/local/lib/python3.10/dist-packages (0.0.13)\n",
            "Requirement already satisfied: yt_dlp in /usr/local/lib/python3.10/dist-packages (2023.11.16)\n",
            "Requirement already satisfied: optimum in /usr/local/lib/python3.10/dist-packages (1.16.1)\n",
            "Requirement already satisfied: accelerate in /usr/local/lib/python3.10/dist-packages (0.25.0)\n",
            "Requirement already satisfied: transformers in /usr/local/lib/python3.10/dist-packages (4.35.2)\n",
            "Collecting transformers\n",
            "  Downloading transformers-4.36.2-py3-none-any.whl (8.2 MB)\n",
            "\u001b[2K     \u001b[90m━━━━━━━━━━━━━━━━━━━━━━━━━━━━━━━━━━━━━━━━\u001b[0m \u001b[32m8.2/8.2 MB\u001b[0m \u001b[31m27.0 MB/s\u001b[0m eta \u001b[36m0:00:00\u001b[0m\n",
            "\u001b[?25hRequirement already satisfied: gradio in /usr/local/lib/python3.10/dist-packages (4.10.0)\n",
            "Requirement already satisfied: pyannote-audio>=3.1.0 in /usr/local/lib/python3.10/dist-packages (from insanely-fast-whisper) (3.1.1)\n",
            "Requirement already satisfied: setuptools>=68.2.2 in /usr/local/lib/python3.10/dist-packages (from insanely-fast-whisper) (69.0.2)\n",
            "Requirement already satisfied: rich>=13.7.0 in /usr/local/lib/python3.10/dist-packages (from insanely-fast-whisper) (13.7.0)\n",
            "Requirement already satisfied: mutagen in /usr/local/lib/python3.10/dist-packages (from yt_dlp) (1.47.0)\n",
            "Requirement already satisfied: pycryptodomex in /usr/local/lib/python3.10/dist-packages (from yt_dlp) (3.19.0)\n",
            "Requirement already satisfied: websockets in /usr/local/lib/python3.10/dist-packages (from yt_dlp) (11.0.3)\n",
            "Requirement already satisfied: certifi in /usr/local/lib/python3.10/dist-packages (from yt_dlp) (2023.11.17)\n",
            "Requirement already satisfied: requests<3,>=2.31.0 in /usr/local/lib/python3.10/dist-packages (from yt_dlp) (2.31.0)\n",
            "Requirement already satisfied: urllib3<3,>=1.26.17 in /usr/local/lib/python3.10/dist-packages (from yt_dlp) (2.0.7)\n",
            "Requirement already satisfied: brotli in /usr/local/lib/python3.10/dist-packages (from yt_dlp) (1.1.0)\n",
            "Requirement already satisfied: coloredlogs in /usr/local/lib/python3.10/dist-packages (from optimum) (15.0.1)\n",
            "Requirement already satisfied: sympy in /usr/local/lib/python3.10/dist-packages (from optimum) (1.12)\n",
            "Requirement already satisfied: torch>=1.9 in /usr/local/lib/python3.10/dist-packages (from optimum) (2.1.0+cu121)\n",
            "Requirement already satisfied: packaging in /usr/local/lib/python3.10/dist-packages (from optimum) (23.2)\n",
            "Requirement already satisfied: numpy in /usr/local/lib/python3.10/dist-packages (from optimum) (1.23.5)\n",
            "Requirement already satisfied: huggingface-hub>=0.8.0 in /usr/local/lib/python3.10/dist-packages (from optimum) (0.19.4)\n",
            "Requirement already satisfied: datasets in /usr/local/lib/python3.10/dist-packages (from optimum) (2.15.0)\n",
            "Requirement already satisfied: psutil in /usr/local/lib/python3.10/dist-packages (from accelerate) (5.9.5)\n",
            "Requirement already satisfied: pyyaml in /usr/local/lib/python3.10/dist-packages (from accelerate) (6.0.1)\n",
            "Requirement already satisfied: safetensors>=0.3.1 in /usr/local/lib/python3.10/dist-packages (from accelerate) (0.4.1)\n",
            "Requirement already satisfied: filelock in /usr/local/lib/python3.10/dist-packages (from transformers) (3.13.1)\n",
            "Requirement already satisfied: regex!=2019.12.17 in /usr/local/lib/python3.10/dist-packages (from transformers) (2023.6.3)\n",
            "Requirement already satisfied: tokenizers<0.19,>=0.14 in /usr/local/lib/python3.10/dist-packages (from transformers) (0.15.0)\n",
            "Requirement already satisfied: tqdm>=4.27 in /usr/local/lib/python3.10/dist-packages (from transformers) (4.66.1)\n",
            "Requirement already satisfied: aiofiles<24.0,>=22.0 in /usr/local/lib/python3.10/dist-packages (from gradio) (23.2.1)\n",
            "Requirement already satisfied: altair<6.0,>=4.2.0 in /usr/local/lib/python3.10/dist-packages (from gradio) (4.2.2)\n",
            "Requirement already satisfied: fastapi in /usr/local/lib/python3.10/dist-packages (from gradio) (0.105.0)\n",
            "Requirement already satisfied: ffmpy in /usr/local/lib/python3.10/dist-packages (from gradio) (0.3.1)\n",
            "Requirement already satisfied: gradio-client==0.7.3 in /usr/local/lib/python3.10/dist-packages (from gradio) (0.7.3)\n",
            "Requirement already satisfied: httpx in /usr/local/lib/python3.10/dist-packages (from gradio) (0.25.2)\n",
            "Requirement already satisfied: importlib-resources<7.0,>=1.3 in /usr/local/lib/python3.10/dist-packages (from gradio) (6.1.1)\n",
            "Requirement already satisfied: jinja2<4.0 in /usr/local/lib/python3.10/dist-packages (from gradio) (3.1.2)\n",
            "Requirement already satisfied: markupsafe~=2.0 in /usr/local/lib/python3.10/dist-packages (from gradio) (2.1.3)\n",
            "Requirement already satisfied: matplotlib~=3.0 in /usr/local/lib/python3.10/dist-packages (from gradio) (3.7.1)\n",
            "Requirement already satisfied: orjson~=3.0 in /usr/local/lib/python3.10/dist-packages (from gradio) (3.9.10)\n",
            "Requirement already satisfied: pandas<3.0,>=1.0 in /usr/local/lib/python3.10/dist-packages (from gradio) (1.5.3)\n",
            "Requirement already satisfied: pillow<11.0,>=8.0 in /usr/local/lib/python3.10/dist-packages (from gradio) (9.4.0)\n",
            "Requirement already satisfied: pydantic>=2.0 in /usr/local/lib/python3.10/dist-packages (from gradio) (2.5.2)\n",
            "Requirement already satisfied: pydub in /usr/local/lib/python3.10/dist-packages (from gradio) (0.25.1)\n",
            "Requirement already satisfied: python-multipart in /usr/local/lib/python3.10/dist-packages (from gradio) (0.0.6)\n",
            "Requirement already satisfied: semantic-version~=2.0 in /usr/local/lib/python3.10/dist-packages (from gradio) (2.10.0)\n",
            "Requirement already satisfied: tomlkit==0.12.0 in /usr/local/lib/python3.10/dist-packages (from gradio) (0.12.0)\n",
            "Requirement already satisfied: typer[all]<1.0,>=0.9 in /usr/local/lib/python3.10/dist-packages (from gradio) (0.9.0)\n",
            "Requirement already satisfied: typing-extensions~=4.0 in /usr/local/lib/python3.10/dist-packages (from gradio) (4.9.0)\n",
            "Requirement already satisfied: uvicorn>=0.14.0 in /usr/local/lib/python3.10/dist-packages (from gradio) (0.24.0.post1)\n",
            "Requirement already satisfied: fsspec in /usr/local/lib/python3.10/dist-packages (from gradio-client==0.7.3->gradio) (2023.6.0)\n",
            "Requirement already satisfied: entrypoints in /usr/local/lib/python3.10/dist-packages (from altair<6.0,>=4.2.0->gradio) (0.4)\n",
            "Requirement already satisfied: jsonschema>=3.0 in /usr/local/lib/python3.10/dist-packages (from altair<6.0,>=4.2.0->gradio) (4.19.2)\n",
            "Requirement already satisfied: toolz in /usr/local/lib/python3.10/dist-packages (from altair<6.0,>=4.2.0->gradio) (0.12.0)\n",
            "Requirement already satisfied: contourpy>=1.0.1 in /usr/local/lib/python3.10/dist-packages (from matplotlib~=3.0->gradio) (1.2.0)\n",
            "Requirement already satisfied: cycler>=0.10 in /usr/local/lib/python3.10/dist-packages (from matplotlib~=3.0->gradio) (0.12.1)\n",
            "Requirement already satisfied: fonttools>=4.22.0 in /usr/local/lib/python3.10/dist-packages (from matplotlib~=3.0->gradio) (4.46.0)\n",
            "Requirement already satisfied: kiwisolver>=1.0.1 in /usr/local/lib/python3.10/dist-packages (from matplotlib~=3.0->gradio) (1.4.5)\n",
            "Requirement already satisfied: pyparsing>=2.3.1 in /usr/local/lib/python3.10/dist-packages (from matplotlib~=3.0->gradio) (3.1.1)\n",
            "Requirement already satisfied: python-dateutil>=2.7 in /usr/local/lib/python3.10/dist-packages (from matplotlib~=3.0->gradio) (2.8.2)\n",
            "Requirement already satisfied: pytz>=2020.1 in /usr/local/lib/python3.10/dist-packages (from pandas<3.0,>=1.0->gradio) (2023.3.post1)\n",
            "Requirement already satisfied: asteroid-filterbanks>=0.4 in /usr/local/lib/python3.10/dist-packages (from pyannote-audio>=3.1.0->insanely-fast-whisper) (0.4.0)\n",
            "Requirement already satisfied: einops>=0.6.0 in /usr/local/lib/python3.10/dist-packages (from pyannote-audio>=3.1.0->insanely-fast-whisper) (0.7.0)\n",
            "Requirement already satisfied: lightning>=2.0.1 in /usr/local/lib/python3.10/dist-packages (from pyannote-audio>=3.1.0->insanely-fast-whisper) (2.1.2)\n",
            "Requirement already satisfied: omegaconf<3.0,>=2.1 in /usr/local/lib/python3.10/dist-packages (from pyannote-audio>=3.1.0->insanely-fast-whisper) (2.3.0)\n",
            "Requirement already satisfied: pyannote.core>=5.0.0 in /usr/local/lib/python3.10/dist-packages (from pyannote-audio>=3.1.0->insanely-fast-whisper) (5.0.0)\n",
            "Requirement already satisfied: pyannote.database>=5.0.1 in /usr/local/lib/python3.10/dist-packages (from pyannote-audio>=3.1.0->insanely-fast-whisper) (5.0.1)\n",
            "Requirement already satisfied: pyannote.metrics>=3.2 in /usr/local/lib/python3.10/dist-packages (from pyannote-audio>=3.1.0->insanely-fast-whisper) (3.2.1)\n",
            "Requirement already satisfied: pyannote.pipeline>=3.0.1 in /usr/local/lib/python3.10/dist-packages (from pyannote-audio>=3.1.0->insanely-fast-whisper) (3.0.1)\n",
            "Requirement already satisfied: pytorch-metric-learning>=2.1.0 in /usr/local/lib/python3.10/dist-packages (from pyannote-audio>=3.1.0->insanely-fast-whisper) (2.4.1)\n",
            "Requirement already satisfied: semver>=3.0.0 in /usr/local/lib/python3.10/dist-packages (from pyannote-audio>=3.1.0->insanely-fast-whisper) (3.0.2)\n",
            "Requirement already satisfied: soundfile>=0.12.1 in /usr/local/lib/python3.10/dist-packages (from pyannote-audio>=3.1.0->insanely-fast-whisper) (0.12.1)\n",
            "Requirement already satisfied: speechbrain>=0.5.14 in /usr/local/lib/python3.10/dist-packages (from pyannote-audio>=3.1.0->insanely-fast-whisper) (0.5.16)\n",
            "Requirement already satisfied: tensorboardX>=2.6 in /usr/local/lib/python3.10/dist-packages (from pyannote-audio>=3.1.0->insanely-fast-whisper) (2.6.2.2)\n",
            "Requirement already satisfied: torch-audiomentations>=0.11.0 in /usr/local/lib/python3.10/dist-packages (from pyannote-audio>=3.1.0->insanely-fast-whisper) (0.11.0)\n",
            "Requirement already satisfied: torchaudio>=2.0.0 in /usr/local/lib/python3.10/dist-packages (from pyannote-audio>=3.1.0->insanely-fast-whisper) (2.1.0+cu121)\n",
            "Requirement already satisfied: torchmetrics>=0.11.0 in /usr/local/lib/python3.10/dist-packages (from pyannote-audio>=3.1.0->insanely-fast-whisper) (1.2.1)\n",
            "Requirement already satisfied: annotated-types>=0.4.0 in /usr/local/lib/python3.10/dist-packages (from pydantic>=2.0->gradio) (0.6.0)\n",
            "Requirement already satisfied: pydantic-core==2.14.5 in /usr/local/lib/python3.10/dist-packages (from pydantic>=2.0->gradio) (2.14.5)\n",
            "Requirement already satisfied: charset-normalizer<4,>=2 in /usr/local/lib/python3.10/dist-packages (from requests<3,>=2.31.0->yt_dlp) (3.3.2)\n",
            "Requirement already satisfied: idna<4,>=2.5 in /usr/local/lib/python3.10/dist-packages (from requests<3,>=2.31.0->yt_dlp) (3.6)\n",
            "Requirement already satisfied: markdown-it-py>=2.2.0 in /usr/local/lib/python3.10/dist-packages (from rich>=13.7.0->insanely-fast-whisper) (3.0.0)\n",
            "Requirement already satisfied: pygments<3.0.0,>=2.13.0 in /usr/local/lib/python3.10/dist-packages (from rich>=13.7.0->insanely-fast-whisper) (2.16.1)\n",
            "Requirement already satisfied: networkx in /usr/local/lib/python3.10/dist-packages (from torch>=1.9->optimum) (3.2.1)\n",
            "Requirement already satisfied: triton==2.1.0 in /usr/local/lib/python3.10/dist-packages (from torch>=1.9->optimum) (2.1.0)\n",
            "Requirement already satisfied: sentencepiece!=0.1.92,>=0.1.91 in /usr/local/lib/python3.10/dist-packages (from transformers) (0.1.99)\n",
            "Requirement already satisfied: protobuf in /usr/local/lib/python3.10/dist-packages (from transformers) (3.20.3)\n",
            "Requirement already satisfied: click<9.0.0,>=7.1.1 in /usr/local/lib/python3.10/dist-packages (from typer[all]<1.0,>=0.9->gradio) (8.1.7)\n",
            "Requirement already satisfied: colorama<0.5.0,>=0.4.3 in /usr/local/lib/python3.10/dist-packages (from typer[all]<1.0,>=0.9->gradio) (0.4.6)\n",
            "Requirement already satisfied: shellingham<2.0.0,>=1.3.0 in /usr/local/lib/python3.10/dist-packages (from typer[all]<1.0,>=0.9->gradio) (1.5.4)\n",
            "Requirement already satisfied: h11>=0.8 in /usr/local/lib/python3.10/dist-packages (from uvicorn>=0.14.0->gradio) (0.14.0)\n",
            "Requirement already satisfied: humanfriendly>=9.1 in /usr/local/lib/python3.10/dist-packages (from coloredlogs->optimum) (10.0)\n",
            "Requirement already satisfied: pyarrow>=8.0.0 in /usr/local/lib/python3.10/dist-packages (from datasets->optimum) (10.0.1)\n",
            "Requirement already satisfied: pyarrow-hotfix in /usr/local/lib/python3.10/dist-packages (from datasets->optimum) (0.6)\n",
            "Requirement already satisfied: dill<0.3.8,>=0.3.0 in /usr/local/lib/python3.10/dist-packages (from datasets->optimum) (0.3.7)\n",
            "Requirement already satisfied: xxhash in /usr/local/lib/python3.10/dist-packages (from datasets->optimum) (3.4.1)\n",
            "Requirement already satisfied: multiprocess in /usr/local/lib/python3.10/dist-packages (from datasets->optimum) (0.70.15)\n",
            "Requirement already satisfied: aiohttp in /usr/local/lib/python3.10/dist-packages (from datasets->optimum) (3.9.1)\n",
            "Requirement already satisfied: anyio<4.0.0,>=3.7.1 in /usr/local/lib/python3.10/dist-packages (from fastapi->gradio) (3.7.1)\n",
            "Requirement already satisfied: starlette<0.28.0,>=0.27.0 in /usr/local/lib/python3.10/dist-packages (from fastapi->gradio) (0.27.0)\n",
            "Requirement already satisfied: httpcore==1.* in /usr/local/lib/python3.10/dist-packages (from httpx->gradio) (1.0.2)\n",
            "Requirement already satisfied: sniffio in /usr/local/lib/python3.10/dist-packages (from httpx->gradio) (1.3.0)\n",
            "Requirement already satisfied: mpmath>=0.19 in /usr/local/lib/python3.10/dist-packages (from sympy->optimum) (1.3.0)\n",
            "Requirement already satisfied: exceptiongroup in /usr/local/lib/python3.10/dist-packages (from anyio<4.0.0,>=3.7.1->fastapi->gradio) (1.2.0)\n",
            "Requirement already satisfied: attrs>=17.3.0 in /usr/local/lib/python3.10/dist-packages (from aiohttp->datasets->optimum) (23.1.0)\n",
            "Requirement already satisfied: multidict<7.0,>=4.5 in /usr/local/lib/python3.10/dist-packages (from aiohttp->datasets->optimum) (6.0.4)\n",
            "Requirement already satisfied: yarl<2.0,>=1.0 in /usr/local/lib/python3.10/dist-packages (from aiohttp->datasets->optimum) (1.9.4)\n",
            "Requirement already satisfied: frozenlist>=1.1.1 in /usr/local/lib/python3.10/dist-packages (from aiohttp->datasets->optimum) (1.4.0)\n",
            "Requirement already satisfied: aiosignal>=1.1.2 in /usr/local/lib/python3.10/dist-packages (from aiohttp->datasets->optimum) (1.3.1)\n",
            "Requirement already satisfied: async-timeout<5.0,>=4.0 in /usr/local/lib/python3.10/dist-packages (from aiohttp->datasets->optimum) (4.0.3)\n",
            "Requirement already satisfied: jsonschema-specifications>=2023.03.6 in /usr/local/lib/python3.10/dist-packages (from jsonschema>=3.0->altair<6.0,>=4.2.0->gradio) (2023.11.2)\n",
            "Requirement already satisfied: referencing>=0.28.4 in /usr/local/lib/python3.10/dist-packages (from jsonschema>=3.0->altair<6.0,>=4.2.0->gradio) (0.32.0)\n",
            "Requirement already satisfied: rpds-py>=0.7.1 in /usr/local/lib/python3.10/dist-packages (from jsonschema>=3.0->altair<6.0,>=4.2.0->gradio) (0.13.2)\n",
            "Requirement already satisfied: lightning-utilities<2.0,>=0.8.0 in /usr/local/lib/python3.10/dist-packages (from lightning>=2.0.1->pyannote-audio>=3.1.0->insanely-fast-whisper) (0.10.0)\n",
            "Requirement already satisfied: pytorch-lightning in /usr/local/lib/python3.10/dist-packages (from lightning>=2.0.1->pyannote-audio>=3.1.0->insanely-fast-whisper) (2.1.2)\n",
            "Requirement already satisfied: mdurl~=0.1 in /usr/local/lib/python3.10/dist-packages (from markdown-it-py>=2.2.0->rich>=13.7.0->insanely-fast-whisper) (0.1.2)\n",
            "Requirement already satisfied: antlr4-python3-runtime==4.9.* in /usr/local/lib/python3.10/dist-packages (from omegaconf<3.0,>=2.1->pyannote-audio>=3.1.0->insanely-fast-whisper) (4.9.3)\n",
            "Requirement already satisfied: sortedcontainers>=2.0.4 in /usr/local/lib/python3.10/dist-packages (from pyannote.core>=5.0.0->pyannote-audio>=3.1.0->insanely-fast-whisper) (2.4.0)\n",
            "Requirement already satisfied: scipy>=1.1 in /usr/local/lib/python3.10/dist-packages (from pyannote.core>=5.0.0->pyannote-audio>=3.1.0->insanely-fast-whisper) (1.11.4)\n",
            "Requirement already satisfied: scikit-learn>=0.17.1 in /usr/local/lib/python3.10/dist-packages (from pyannote.metrics>=3.2->pyannote-audio>=3.1.0->insanely-fast-whisper) (1.2.2)\n",
            "Requirement already satisfied: docopt>=0.6.2 in /usr/local/lib/python3.10/dist-packages (from pyannote.metrics>=3.2->pyannote-audio>=3.1.0->insanely-fast-whisper) (0.6.2)\n",
            "Requirement already satisfied: tabulate>=0.7.7 in /usr/local/lib/python3.10/dist-packages (from pyannote.metrics>=3.2->pyannote-audio>=3.1.0->insanely-fast-whisper) (0.9.0)\n",
            "Requirement already satisfied: optuna>=3.1 in /usr/local/lib/python3.10/dist-packages (from pyannote.pipeline>=3.0.1->pyannote-audio>=3.1.0->insanely-fast-whisper) (3.5.0)\n",
            "Requirement already satisfied: six>=1.5 in /usr/local/lib/python3.10/dist-packages (from python-dateutil>=2.7->matplotlib~=3.0->gradio) (1.16.0)\n",
            "Requirement already satisfied: cffi>=1.0 in /usr/local/lib/python3.10/dist-packages (from soundfile>=0.12.1->pyannote-audio>=3.1.0->insanely-fast-whisper) (1.16.0)\n",
            "Requirement already satisfied: hyperpyyaml in /usr/local/lib/python3.10/dist-packages (from speechbrain>=0.5.14->pyannote-audio>=3.1.0->insanely-fast-whisper) (1.2.2)\n",
            "Requirement already satisfied: joblib in /usr/local/lib/python3.10/dist-packages (from speechbrain>=0.5.14->pyannote-audio>=3.1.0->insanely-fast-whisper) (1.3.2)\n",
            "Requirement already satisfied: julius<0.3,>=0.2.3 in /usr/local/lib/python3.10/dist-packages (from torch-audiomentations>=0.11.0->pyannote-audio>=3.1.0->insanely-fast-whisper) (0.2.7)\n",
            "Requirement already satisfied: librosa>=0.6.0 in /usr/local/lib/python3.10/dist-packages (from torch-audiomentations>=0.11.0->pyannote-audio>=3.1.0->insanely-fast-whisper) (0.10.1)\n",
            "Requirement already satisfied: torch-pitch-shift>=1.2.2 in /usr/local/lib/python3.10/dist-packages (from torch-audiomentations>=0.11.0->pyannote-audio>=3.1.0->insanely-fast-whisper) (1.2.4)\n",
            "Requirement already satisfied: pycparser in /usr/local/lib/python3.10/dist-packages (from cffi>=1.0->soundfile>=0.12.1->pyannote-audio>=3.1.0->insanely-fast-whisper) (2.21)\n",
            "Requirement already satisfied: audioread>=2.1.9 in /usr/local/lib/python3.10/dist-packages (from librosa>=0.6.0->torch-audiomentations>=0.11.0->pyannote-audio>=3.1.0->insanely-fast-whisper) (3.0.1)\n",
            "Requirement already satisfied: decorator>=4.3.0 in /usr/local/lib/python3.10/dist-packages (from librosa>=0.6.0->torch-audiomentations>=0.11.0->pyannote-audio>=3.1.0->insanely-fast-whisper) (4.4.2)\n",
            "Requirement already satisfied: numba>=0.51.0 in /usr/local/lib/python3.10/dist-packages (from librosa>=0.6.0->torch-audiomentations>=0.11.0->pyannote-audio>=3.1.0->insanely-fast-whisper) (0.58.1)\n",
            "Requirement already satisfied: pooch>=1.0 in /usr/local/lib/python3.10/dist-packages (from librosa>=0.6.0->torch-audiomentations>=0.11.0->pyannote-audio>=3.1.0->insanely-fast-whisper) (1.8.0)\n",
            "Requirement already satisfied: soxr>=0.3.2 in /usr/local/lib/python3.10/dist-packages (from librosa>=0.6.0->torch-audiomentations>=0.11.0->pyannote-audio>=3.1.0->insanely-fast-whisper) (0.3.7)\n",
            "Requirement already satisfied: lazy-loader>=0.1 in /usr/local/lib/python3.10/dist-packages (from librosa>=0.6.0->torch-audiomentations>=0.11.0->pyannote-audio>=3.1.0->insanely-fast-whisper) (0.3)\n",
            "Requirement already satisfied: msgpack>=1.0 in /usr/local/lib/python3.10/dist-packages (from librosa>=0.6.0->torch-audiomentations>=0.11.0->pyannote-audio>=3.1.0->insanely-fast-whisper) (1.0.7)\n",
            "Requirement already satisfied: alembic>=1.5.0 in /usr/local/lib/python3.10/dist-packages (from optuna>=3.1->pyannote.pipeline>=3.0.1->pyannote-audio>=3.1.0->insanely-fast-whisper) (1.13.0)\n",
            "Requirement already satisfied: colorlog in /usr/local/lib/python3.10/dist-packages (from optuna>=3.1->pyannote.pipeline>=3.0.1->pyannote-audio>=3.1.0->insanely-fast-whisper) (6.8.0)\n",
            "Requirement already satisfied: sqlalchemy>=1.3.0 in /usr/local/lib/python3.10/dist-packages (from optuna>=3.1->pyannote.pipeline>=3.0.1->pyannote-audio>=3.1.0->insanely-fast-whisper) (2.0.23)\n",
            "Requirement already satisfied: threadpoolctl>=2.0.0 in /usr/local/lib/python3.10/dist-packages (from scikit-learn>=0.17.1->pyannote.metrics>=3.2->pyannote-audio>=3.1.0->insanely-fast-whisper) (3.2.0)\n",
            "Requirement already satisfied: primePy>=1.3 in /usr/local/lib/python3.10/dist-packages (from torch-pitch-shift>=1.2.2->torch-audiomentations>=0.11.0->pyannote-audio>=3.1.0->insanely-fast-whisper) (1.3)\n",
            "Requirement already satisfied: ruamel.yaml>=0.17.28 in /usr/local/lib/python3.10/dist-packages (from hyperpyyaml->speechbrain>=0.5.14->pyannote-audio>=3.1.0->insanely-fast-whisper) (0.18.5)\n",
            "Requirement already satisfied: Mako in /usr/local/lib/python3.10/dist-packages (from alembic>=1.5.0->optuna>=3.1->pyannote.pipeline>=3.0.1->pyannote-audio>=3.1.0->insanely-fast-whisper) (1.3.0)\n",
            "Requirement already satisfied: llvmlite<0.42,>=0.41.0dev0 in /usr/local/lib/python3.10/dist-packages (from numba>=0.51.0->librosa>=0.6.0->torch-audiomentations>=0.11.0->pyannote-audio>=3.1.0->insanely-fast-whisper) (0.41.1)\n",
            "Requirement already satisfied: platformdirs>=2.5.0 in /usr/local/lib/python3.10/dist-packages (from pooch>=1.0->librosa>=0.6.0->torch-audiomentations>=0.11.0->pyannote-audio>=3.1.0->insanely-fast-whisper) (4.1.0)\n",
            "Requirement already satisfied: ruamel.yaml.clib>=0.2.7 in /usr/local/lib/python3.10/dist-packages (from ruamel.yaml>=0.17.28->hyperpyyaml->speechbrain>=0.5.14->pyannote-audio>=3.1.0->insanely-fast-whisper) (0.2.8)\n",
            "Requirement already satisfied: greenlet!=0.4.17 in /usr/local/lib/python3.10/dist-packages (from sqlalchemy>=1.3.0->optuna>=3.1->pyannote.pipeline>=3.0.1->pyannote-audio>=3.1.0->insanely-fast-whisper) (3.0.2)\n",
            "Installing collected packages: transformers\n",
            "  Attempting uninstall: transformers\n",
            "    Found existing installation: transformers 4.35.2\n",
            "    Uninstalling transformers-4.35.2:\n",
            "      Successfully uninstalled transformers-4.35.2\n",
            "Successfully installed transformers-4.36.2\n"
          ]
        },
        {
          "output_type": "display_data",
          "data": {
            "application/vnd.colab-display-data+json": {
              "pip_warning": {
                "packages": [
                  "transformers"
                ]
              }
            }
          },
          "metadata": {}
        }
      ],
      "source": [
        "!pip install --upgrade insanely-fast-whisper yt_dlp optimum accelerate transformers gradio"
      ]
    },
    {
      "cell_type": "markdown",
      "source": [
        "# Load libraries, models"
      ],
      "metadata": {
        "id": "3VAfJ_pSAzNy"
      }
    },
    {
      "cell_type": "code",
      "source": [
        "import tempfile\n",
        "import os\n",
        "import time\n",
        "import gradio as gr\n",
        "import spacy\n",
        "import torch\n",
        "import yt_dlp as youtube_dl\n",
        "from transformers import pipeline\n",
        "from transformers.pipelines.audio_utils import ffmpeg_read\n",
        "from math import floor\n",
        "from pprint import pprint\n",
        "from transformers.utils import is_flash_attn_2_available\n",
        "from transformers import AutoProcessor, AutoModelForSpeechSeq2Seq\n",
        "\n",
        "\n",
        "\n",
        "nlp = spacy.load('en_core_web_sm')\n",
        "\n",
        "MODEL_NAME = \"openai/whisper-large-v3\"\n",
        "BATCH_SIZE = 16\n",
        "FILE_LIMIT_MB = 1000\n",
        "YT_LENGTH_LIMIT_S = 3600  # limit to 1 hour YouTube files\n",
        "\n",
        "device = 0 if torch.cuda.is_available() else \"cpu\"\n",
        "\n",
        "\n",
        "\n",
        "pipe = pipeline(\n",
        "    \"automatic-speech-recognition\",\n",
        "    model=MODEL_NAME,\n",
        "    torch_dtype=torch.float16,\n",
        "    device=device, # or mps for Mac devices\n",
        "    #model_kwargs={\"use_flash_attention_2\": is_flash_attn_2_available()},# set to False for old GPUs\n",
        ")\n",
        "\n",
        "\n",
        "\n",
        "\n",
        "\n"
      ],
      "metadata": {
        "id": "_vB3_CF_T0JV",
        "colab": {
          "base_uri": "https://localhost:8080/"
        },
        "outputId": "a3ac6a75-eaff-4f6b-9887-0da170d48f78"
      },
      "execution_count": 1,
      "outputs": [
        {
          "output_type": "stream",
          "name": "stderr",
          "text": [
            "Special tokens have been added in the vocabulary, make sure the associated word embeddings are fine-tuned or trained.\n",
            "Special tokens have been added in the vocabulary, make sure the associated word embeddings are fine-tuned or trained.\n"
          ]
        }
      ]
    },
    {
      "cell_type": "markdown",
      "source": [
        "# Timestamp transformation"
      ],
      "metadata": {
        "id": "2JKajHNPAquB"
      }
    },
    {
      "cell_type": "code",
      "source": [
        "\n",
        "def format_time(time_:float) -> str:\n",
        "  \"\"\"Transform time in seconds to minutes:seconds,centiseconds\"\"\"\n",
        "  decimals = floor((time_ % 1)*1000)\n",
        "  # get number of minutes, we do not care about hours as length is shorter than 1 hour\n",
        "  min, sec = divmod(floor(time_), 60)\n",
        "  formatted_time = f'00:{format(min, \"02\")}:{format(sec, \"02\")},{format(decimals, \"03\")}'\n",
        "  return formatted_time\n",
        "\n",
        "def timestamp_srt(timestamp:tuple):\n",
        "  \"\"\"Convert timestamp start, end to the correct srt format\"\"\"\n",
        "  start, end = timestamp # unpack tuple\n",
        "  formatted_start = format_time(start)\n",
        "  formatted_end = format_time(end)\n",
        "  srt = f'{formatted_start} --> {formatted_end}\\n'\n",
        "  return srt\n",
        "\n",
        "def get_srt(chunks):\n",
        "  \"\"\"Generate the srt file\"\"\"\n",
        "  srt = ''\n",
        "  for i,chunk in enumerate(chunks):\n",
        "    srt += f'{i+1}\\n' #chunk number\n",
        "    srt += timestamp_srt(chunk['timestamp'])\n",
        "    srt += f\"{chunk['text'].strip()}\\n\\n\"\n",
        "  return srt\n"
      ],
      "metadata": {
        "id": "nvbS5365RJt0"
      },
      "execution_count": 2,
      "outputs": []
    },
    {
      "cell_type": "markdown",
      "source": [
        "# Download video data"
      ],
      "metadata": {
        "id": "OvYe1m7tAuS8"
      }
    },
    {
      "cell_type": "code",
      "source": [
        "def _return_yt_html_embed(yt_url):\n",
        "    video_id = yt_url.split(\"?v=\")[-1]\n",
        "    HTML_str = (\n",
        "        f'<center> <iframe width=\"500\" height=\"320\" src=\"https://www.youtube.com/embed/{video_id}\"> </iframe>'\n",
        "        \" </center>\"\n",
        "    )\n",
        "    return HTML_str\n",
        "\n",
        "def download_yt_audio(yt_url, filename):\n",
        "    info_loader = youtube_dl.YoutubeDL()\n",
        "\n",
        "    try:\n",
        "        info = info_loader.extract_info(yt_url, download=False)\n",
        "    except youtube_dl.utils.DownloadError as err:\n",
        "        raise gr.Error(str(err))\n",
        "\n",
        "    file_length = info[\"duration_string\"]\n",
        "    file_h_m_s = file_length.split(\":\")\n",
        "    file_h_m_s = [int(sub_length) for sub_length in file_h_m_s]\n",
        "\n",
        "    if len(file_h_m_s) == 1:\n",
        "        file_h_m_s.insert(0, 0)\n",
        "    if len(file_h_m_s) == 2:\n",
        "        file_h_m_s.insert(0, 0)\n",
        "    file_length_s = file_h_m_s[0] * 3600 + file_h_m_s[1] * 60 + file_h_m_s[2]\n",
        "\n",
        "    if file_length_s > YT_LENGTH_LIMIT_S:\n",
        "        yt_length_limit_hms = time.strftime(\"%HH:%MM:%SS\", time.gmtime(YT_LENGTH_LIMIT_S))\n",
        "        file_length_hms = time.strftime(\"%HH:%MM:%SS\", time.gmtime(file_length_s))\n",
        "        raise gr.Error(f\"Maximum YouTube length is {yt_length_limit_hms}, got {file_length_hms} YouTube video.\")\n",
        "\n",
        "    ydl_opts = {\"outtmpl\": filename, \"format\": \"worstvideo[ext=mp4]+bestaudio[ext=m4a]/best[ext=mp4]/best\"}\n",
        "\n",
        "    with youtube_dl.YoutubeDL(ydl_opts) as ydl:\n",
        "        try:\n",
        "            ydl.download([yt_url])\n",
        "        except youtube_dl.utils.ExtractorError as err:\n",
        "            raise gr.Error(str(err))\n",
        "\n",
        "\n",
        "def yt_transcribe(yt_url, task= 'transcribe', language='french',  max_filesize=75.0):\n",
        "    assert task in ['transcribe', 'translate'], \"task value should be in ['transcribe', 'translate']\"\n",
        "    html_embed_str = _return_yt_html_embed(yt_url)\n",
        "\n",
        "    with tempfile.TemporaryDirectory() as tmpdirname:\n",
        "        filepath = os.path.join(tmpdirname, \"video.mp4\")\n",
        "        download_yt_audio(yt_url, filepath)\n",
        "        with open(filepath, \"rb\") as f:\n",
        "            inputs = f.read()\n",
        "\n",
        "    inputs = ffmpeg_read(inputs, pipe.feature_extractor.sampling_rate)\n",
        "    inputs = {\"array\": inputs, \"sampling_rate\": pipe.feature_extractor.sampling_rate}\n",
        "\n",
        "    # text = pipe(inputs, batch_size=BATCH_SIZE, generate_kwargs={\"task\": task}, return_timestamps=True)[\"text\"]\n",
        "    text = pipe(inputs,\n",
        "               chunk_length_s=3,\n",
        "               batch_size=BATCH_SIZE,\n",
        "               return_timestamps=True,\n",
        "               generate_kwargs={\n",
        "            \"task\": task,\n",
        "            \"language\": language,\n",
        "        },)\n",
        "    # transcript without timestamps\n",
        "    transcript = text['text']\n",
        "    sentences = '\\n\\n'.join([sent.text for sent in nlp(transcript).sents])\n",
        "    text_path = './need_review.txt'\n",
        "    with open(text_path, 'w', encoding=\"utf-8\") as f1:\n",
        "      f1.write(sentences)\n",
        "    # transcript without timestamps\n",
        "    chunks = get_srt(text['chunks'])\n",
        "    srt_path = './need_review.srt'\n",
        "    with open(srt_path, 'w', encoding=\"utf-8\") as f2:\n",
        "      f2.write(chunks)\n",
        "    return [sentences, text_path, chunks, srt_path]"
      ],
      "metadata": {
        "id": "5JfFWaRWcd5X"
      },
      "execution_count": 3,
      "outputs": []
    },
    {
      "cell_type": "markdown",
      "source": [
        "# Local file"
      ],
      "metadata": {
        "id": "UmWtIb7Y2oSP"
      }
    },
    {
      "cell_type": "code",
      "source": [
        "def transcribe(filepath, task = 'transcribe', language = 'french'):\n",
        "    with open(filepath, \"rb\") as f:\n",
        "      inputs = f.read()\n",
        "\n",
        "    inputs = ffmpeg_read(inputs, pipe.feature_extractor.sampling_rate)\n",
        "    inputs = {\"array\": inputs, \"sampling_rate\": pipe.feature_extractor.sampling_rate}\n",
        "    if inputs is None:\n",
        "      raise gr.Error(\"No audio file submitted! Please upload or record an audio file before submitting your request.\")\n",
        "\n",
        "    text = pipe(inputs,\n",
        "               chunk_length_s=3,\n",
        "               batch_size=BATCH_SIZE,\n",
        "               return_timestamps=True,\n",
        "               generate_kwargs={\n",
        "            \"task\": task,\n",
        "            \"language\": language,\n",
        "        },)\n",
        "    # transcript without timestamps\n",
        "    transcript = text['text']\n",
        "    sentences = '\\n\\n'.join([sent.text for sent in nlp(transcript).sents])\n",
        "    text_path = './need_review.txt'\n",
        "    with open(text_path, 'w', encoding=\"utf-8\") as f1:\n",
        "      f1.write(sentences)\n",
        "    # transcript without timestamps\n",
        "    chunks = get_srt(text['chunks'])\n",
        "    srt_path = './need_review.srt'\n",
        "    with open(srt_path, 'w', encoding=\"utf-8\") as f2:\n",
        "      f2.write(chunks)\n",
        "    return [sentences, text_path, chunks, srt_path]"
      ],
      "metadata": {
        "id": "NDlZ1Dqh2nLa"
      },
      "execution_count": 4,
      "outputs": []
    },
    {
      "cell_type": "markdown",
      "source": [
        "# After review\n",
        "Import your reviewed file to Colab"
      ],
      "metadata": {
        "id": "Pg7eDgDg9kFA"
      }
    },
    {
      "cell_type": "code",
      "source": [
        "def re_order_chunks(file):\n",
        "  # Restore the order of chunks\n",
        "  final_file_name = f'ordered_{file.name.split(\"/\")[-1]}'\n",
        "  with open(file.name, 'r', encoding=\"utf-8\") as checked_file:\n",
        "    corrected_chunk_number = 0\n",
        "    corrected_content = ''\n",
        "    for line in checked_file.readlines():\n",
        "      if line.strip().isdecimal():\n",
        "        corrected_chunk_number += 1\n",
        "        corrected_content += f'{corrected_chunk_number}\\n'\n",
        "      else:\n",
        "        corrected_content += line.strip() + '\\n'\n",
        "  # Create the final file\n",
        "  with open(final_file_name, 'w', encoding=\"utf-8\") as f:\n",
        "    f.write(corrected_content)\n",
        "  return [corrected_content, final_file_name]\n"
      ],
      "metadata": {
        "id": "ULgIwBkm9iwY"
      },
      "execution_count": 5,
      "outputs": []
    },
    {
      "cell_type": "markdown",
      "source": [
        "# Visual demo\n"
      ],
      "metadata": {
        "id": "gUS1cmtofwQ1"
      }
    },
    {
      "cell_type": "code",
      "source": [
        "\n",
        "gr.close_all()\n",
        "demo = gr.Blocks()\n",
        "yt = gr.Interface(\n",
        "    fn=yt_transcribe,\n",
        "    inputs=[gr.Textbox(label='Youtube Url',\n",
        "                         value='https://www.youtube.com/watch?v=_KFZgN7MXdw&pp=ygUXY2FzdGVsbG8gbG9wZXMgZW1tZW50YWw%3D'),\n",
        "              gr.Radio([\"transcribe\", \"translate\"], label=\"task\", value =\"transcribe\"),\n",
        "              gr.Textbox(value = 'french', label='language',\n",
        "                         info='the target language to transcribe or translate the video')],\n",
        "    outputs=[gr.Textbox(label='transcript without timestamps'),\n",
        "             gr.File(label=\"The txt file containing the transcript without timestamps\"),\n",
        "             gr.Textbox(label='transcript with timestamps'),\n",
        "             gr.File(label=\"The srt file containing the transcript with timestamps\"), ],\n",
        "    title=\"Whisper Large V3: Transcribe YouTube\",\n",
        "    description=(\n",
        "        \"Transcribe long-form YouTube videos with the click of a button! Demo uses the checkpoint\"\n",
        "        f\" [{MODEL_NAME}](https://huggingface.co/{MODEL_NAME}) and 🤗 Transformers to transcribe video files of\"\n",
        "        \" arbitrary length.\\n\"\n",
        "        \"The model may have a hard time with background sounds/voices and proper nouns, so check the results!\"\n",
        "    ),\n",
        ")\n",
        "file_transcribe = gr.Interface(\n",
        "    fn=transcribe,\n",
        "    inputs=[\n",
        "        gr.File(label=\"Audio/Video file\"),\n",
        "        gr.Radio([\"transcribe\", \"translate\"], label=\"task\", value =\"transcribe\"),\n",
        "        gr.Textbox(value = 'french', label='language',\n",
        "                         info='the target language to transcribe or translate the video')],\n",
        "    outputs=[gr.Textbox(label='transcript without timestamps'),\n",
        "             gr.File(label=\"The txt file containing the transcript without timestamps\"),\n",
        "             gr.Textbox(label='transcript with timestamps'),\n",
        "             gr.File(label=\"The srt file containing the transcript with timestamps\"), ],\n",
        "    title=\"Whisper Large V3: Transcribe Audio\",\n",
        "    description=(\n",
        "        \"Transcribe long-form audio/video inputs with the click of a button! Demo uses the\"\n",
        "        f\" checkpoint [{MODEL_NAME}](https://huggingface.co/{MODEL_NAME}) and 🤗 Transformers to transcribe audio files\"\n",
        "        \" of arbitrary length.\"\n",
        "    ),\n",
        ")\n",
        "chunk_order = gr.Interface(\n",
        "    fn=re_order_chunks,\n",
        "    inputs = gr.File(label='The reviewed srt file'),\n",
        "    outputs = [gr.Textbox(label='ordered chunks'),\n",
        "              gr.File(label=\"The srt file containing the above ordered chunks\")],\n",
        "    title=\"Srt chunk orderer\",\n",
        "    description=(\n",
        "        \"After review of a srt file, if you deleted or added chunks, the order of chunks may be messed up.\"\n",
        "        \"This tool will assign an unique number to each chunk, according to the order in which they appear in your file.\"\n",
        "    ),\n",
        ")\n",
        "with demo:\n",
        "  gr.TabbedInterface([yt, file_transcribe, chunk_order],\n",
        "   ['Youtube transcripter', 'Local file transcripter','chunk orderer'])\n",
        "\n",
        "demo.launch()"
      ],
      "metadata": {
        "colab": {
          "base_uri": "https://localhost:8080/",
          "height": 625
        },
        "id": "6dG70bWZeJKA",
        "outputId": "34c6f724-cc12-42df-aa2c-3bcb55dc3342"
      },
      "execution_count": 6,
      "outputs": [
        {
          "output_type": "stream",
          "name": "stdout",
          "text": [
            "Setting queue=True in a Colab notebook requires sharing enabled. Setting `share=True` (you can turn this off by setting `share=False` in `launch()` explicitly).\n",
            "\n",
            "Colab notebook detected. To show errors in colab notebook, set debug=True in launch()\n",
            "Running on public URL: https://a8dd03b3d8ec7b6001.gradio.live\n",
            "\n",
            "This share link expires in 72 hours. For free permanent hosting and GPU upgrades, run `gradio deploy` from Terminal to deploy to Spaces (https://huggingface.co/spaces)\n"
          ]
        },
        {
          "output_type": "display_data",
          "data": {
            "text/plain": [
              "<IPython.core.display.HTML object>"
            ],
            "text/html": [
              "<div><iframe src=\"https://a8dd03b3d8ec7b6001.gradio.live\" width=\"100%\" height=\"500\" allow=\"autoplay; camera; microphone; clipboard-read; clipboard-write;\" frameborder=\"0\" allowfullscreen></iframe></div>"
            ]
          },
          "metadata": {}
        },
        {
          "output_type": "execute_result",
          "data": {
            "text/plain": []
          },
          "metadata": {},
          "execution_count": 6
        }
      ]
    }
  ]
}